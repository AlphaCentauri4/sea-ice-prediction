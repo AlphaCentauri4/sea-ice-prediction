{
  "nbformat": 4,
  "nbformat_minor": 0,
  "metadata": {
    "colab": {
      "name": "grnn.ipynb",
      "provenance": [],
      "collapsed_sections": []
    },
    "kernelspec": {
      "name": "python3",
      "display_name": "Python 3"
    },
    "language_info": {
      "name": "python"
    }
  },
  "cells": [
    {
      "cell_type": "code",
      "metadata": {
        "id": "Zj7rM3ANEopq"
      },
      "source": [
        "# !python3 -m pip install neupy"
      ],
      "execution_count": null,
      "outputs": []
    },
    {
      "cell_type": "code",
      "metadata": {
        "id": "Ut0BAdIeFP1n"
      },
      "source": [
        "import numpy as np\n",
        "import pandas as pd\n",
        "from sklearn import datasets, preprocessing\n",
        "from sklearn.metrics import r2_score\n",
        "from sklearn.model_selection import train_test_split\n",
        "from sklearn.preprocessing import MinMaxScaler, StandardScaler\n",
        "from neupy import algorithms"
      ],
      "execution_count": null,
      "outputs": []
    },
    {
      "cell_type": "code",
      "metadata": {
        "id": "_BhDs9CIKWt7"
      },
      "source": [
        "df = pd.read_csv(\"Arctic_domain_mean_monthly_1979_2021.csv\")\n",
        "df = df.drop('Date', 1)\n",
        "df.loc[:, 'sea_ice_extent_2'] = df['sea_ice_extent']\n",
        "# df"
      ],
      "execution_count": null,
      "outputs": []
    },
    {
      "cell_type": "code",
      "metadata": {
        "id": "AwzDGpvbCKzE"
      },
      "source": [
        "df1 = df.assign(sea_ice_extent_2 = df.sea_ice_extent_2.shift(-1)).drop(df.index[-1])\n",
        "df2 = df1.assign(sea_ice_extent_2 = df1.sea_ice_extent_2.shift(-1)).drop(df1.index[-1])\n",
        "df3 = df2.assign(sea_ice_extent_2 = df2.sea_ice_extent_2.shift(-1)).drop(df2.index[-1])\n",
        "df4 = df3.assign(sea_ice_extent_2 = df3.sea_ice_extent_2.shift(-1)).drop(df3.index[-1])\n",
        "df5 = df4.assign(sea_ice_extent_2 = df4.sea_ice_extent_2.shift(-1)).drop(df4.index[-1])\n",
        "df6 = df5.assign(sea_ice_extent_2 = df5.sea_ice_extent_2.shift(-1)).drop(df5.index[-1])\n",
        "# df6"
      ],
      "execution_count": null,
      "outputs": []
    },
    {
      "cell_type": "markdown",
      "metadata": {
        "id": "zF-8QBmd9cOF"
      },
      "source": [
        "## 1 for dataset df1"
      ]
    },
    {
      "cell_type": "code",
      "metadata": {
        "id": "vlUxsh_13Ila"
      },
      "source": [
        "data = np.array(df1)\n",
        "target = data[:,-1] #assign last column to be target variable\n",
        "data = data[:,:-1] #dropping last column from features\n",
        "# print(data.shape)\n",
        "# print(target.shape)"
      ],
      "execution_count": null,
      "outputs": []
    },
    {
      "cell_type": "code",
      "metadata": {
        "id": "uc4Jd9q-J4OU"
      },
      "source": [
        "LEN_DATA = len(data) #total number of pixels\n",
        "NUM_TRAIN = LEN_DATA - (24+6) #reserve last 30 months for testing\n",
        "\n",
        "x_train = data[0:NUM_TRAIN]\n",
        "y_train = target[0:NUM_TRAIN]\n",
        "\n",
        "x_test = data[NUM_TRAIN:]\n",
        "y_test = target[NUM_TRAIN:]"
      ],
      "execution_count": null,
      "outputs": []
    },
    {
      "cell_type": "code",
      "metadata": {
        "id": "G0tijXOI3Ile"
      },
      "source": [
        "scaler_x = MinMaxScaler()\n",
        "x_train = scaler_x.fit_transform(x_train) \n",
        "x_test = scaler_x.transform(x_test) \n",
        "\n",
        "scaler_y = MinMaxScaler()\n",
        "y_train = scaler_y.fit_transform(y_train.reshape(-1,1))\n",
        "y_test = scaler_y.transform(y_test.reshape(-1,1)) "
      ],
      "execution_count": null,
      "outputs": []
    },
    {
      "cell_type": "code",
      "metadata": {
        "id": "j-Mw8fBd3Ilh"
      },
      "source": [
        "model = algorithms.GRNN(std=0.1, verbose=False)\n",
        "model.train(x_train, y_train)\n",
        "y_pred = model.predict(x_test)"
      ],
      "execution_count": null,
      "outputs": []
    },
    {
      "cell_type": "code",
      "metadata": {
        "id": "h2To50fF6XWt"
      },
      "source": [
        "inv_y_train = scaler_y.inverse_transform(y_train)\n",
        "inv_y_test = scaler_y.inverse_transform(y_test)\n",
        "inv_y_pred = scaler_y.inverse_transform(y_pred)\n",
        "\n",
        "print(y_train[1]) #print out the scaled value\n",
        "print(inv_y_train[1]) #print out the inverted/original value"
      ],
      "execution_count": null,
      "outputs": []
    },
    {
      "cell_type": "code",
      "metadata": {
        "id": "b5Ektm6OKkqp"
      },
      "source": [
        "# save these inv_y_pred in numpy using np.save\n",
        "from numpy import asarray\n",
        "from numpy import save\n",
        "# define data\n",
        "# save to npy file\n",
        "save('df1.npy', inv_y_pred)"
      ],
      "execution_count": null,
      "outputs": []
    },
    {
      "cell_type": "code",
      "metadata": {
        "id": "NDe95xXY7DvN"
      },
      "source": [
        "mse = np.mean((inv_y_pred - inv_y_test) ** 2)\n",
        "rmse1 = np.sqrt(mse)\n",
        "rmse1"
      ],
      "execution_count": null,
      "outputs": []
    },
    {
      "cell_type": "code",
      "source": [
        "nrmse1 = rmse1/(np.mean(inv_y_test))\n",
        "nrmse1"
      ],
      "metadata": {
        "id": "4seLG1jCoeDF"
      },
      "execution_count": null,
      "outputs": []
    },
    {
      "cell_type": "code",
      "source": [
        "r2_score1 = r2_score(inv_y_test, inv_y_pred)"
      ],
      "metadata": {
        "id": "lI0v1Nzcovpg"
      },
      "execution_count": null,
      "outputs": []
    },
    {
      "cell_type": "markdown",
      "metadata": {
        "id": "eQnoqIUY96Bb"
      },
      "source": [
        "## 2 for dataset df2"
      ]
    },
    {
      "cell_type": "code",
      "metadata": {
        "id": "1klu9C5D96Bc"
      },
      "source": [
        "data = np.array(df2)\n",
        "target = data[:,-1] #assign last column to be target variable\n",
        "data = data[:,:-1] #dropping last column from features"
      ],
      "execution_count": null,
      "outputs": []
    },
    {
      "cell_type": "code",
      "metadata": {
        "id": "mcCProyT96Bd"
      },
      "source": [
        "LEN_DATA = len(data) #total number of pixels\n",
        "NUM_TRAIN = LEN_DATA - (24+6) #reserve last 30 months for testing\n",
        "\n",
        "x_train = data[0:NUM_TRAIN]\n",
        "y_train = target[0:NUM_TRAIN]\n",
        "\n",
        "x_test = data[NUM_TRAIN:]\n",
        "y_test = target[NUM_TRAIN:]"
      ],
      "execution_count": null,
      "outputs": []
    },
    {
      "cell_type": "code",
      "metadata": {
        "id": "ElQGL9z496Bf"
      },
      "source": [
        "scaler_x = MinMaxScaler()\n",
        "x_train = scaler_x.fit_transform(x_train) \n",
        "x_test = scaler_x.transform(x_test) \n",
        "\n",
        "scaler_y = MinMaxScaler()\n",
        "y_train = scaler_y.fit_transform(y_train.reshape(-1,1))\n",
        "y_test = scaler_y.transform(y_test.reshape(-1,1)) "
      ],
      "execution_count": null,
      "outputs": []
    },
    {
      "cell_type": "code",
      "metadata": {
        "id": "k4odnoZ296Bg"
      },
      "source": [
        "model = algorithms.GRNN(std=0.1, verbose=False)\n",
        "model.train(x_train, y_train)\n",
        "y_pred = model.predict(x_test)"
      ],
      "execution_count": null,
      "outputs": []
    },
    {
      "cell_type": "code",
      "metadata": {
        "id": "lm8Tmtii96Bh"
      },
      "source": [
        "inv_y_train = scaler_y.inverse_transform(y_train)\n",
        "inv_y_test = scaler_y.inverse_transform(y_test)\n",
        "inv_y_pred = scaler_y.inverse_transform(y_pred)"
      ],
      "execution_count": null,
      "outputs": []
    },
    {
      "cell_type": "code",
      "metadata": {
        "id": "kewzRj1Q96Bi"
      },
      "source": [
        "mse = np.mean((inv_y_pred - inv_y_test) ** 2)\n",
        "rmse2 = np.sqrt(mse)\n",
        "rmse2"
      ],
      "execution_count": null,
      "outputs": []
    },
    {
      "cell_type": "code",
      "source": [
        "nrmse2 = rmse2/(np.mean(inv_y_test))\n",
        "nrmse2"
      ],
      "metadata": {
        "id": "oGs2aV1Fo0si"
      },
      "execution_count": null,
      "outputs": []
    },
    {
      "cell_type": "code",
      "source": [
        "r2_score2 = r2_score(inv_y_test, inv_y_pred)"
      ],
      "metadata": {
        "id": "NW4W06FnozRz"
      },
      "execution_count": null,
      "outputs": []
    },
    {
      "cell_type": "code",
      "metadata": {
        "id": "46oYfgKqK7im"
      },
      "source": [
        "save('df2.npy', inv_y_pred)"
      ],
      "execution_count": null,
      "outputs": []
    },
    {
      "cell_type": "markdown",
      "metadata": {
        "id": "nyhWQ24b-3SI"
      },
      "source": [
        "## 3 for dataset df3"
      ]
    },
    {
      "cell_type": "code",
      "metadata": {
        "id": "3lqNBuzZ-3SY"
      },
      "source": [
        "data = np.array(df3)\n",
        "target = data[:,-1] #assign last column to be target variable\n",
        "data = data[:,:-1] #dropping last column from features"
      ],
      "execution_count": null,
      "outputs": []
    },
    {
      "cell_type": "code",
      "metadata": {
        "id": "mFctvFYxoHVM"
      },
      "source": [
        "LEN_DATA = len(data) #total number of pixels\n",
        "NUM_TRAIN = LEN_DATA - (24+6) #reserve last 30 months for testing\n",
        "\n",
        "x_train = data[0:NUM_TRAIN]\n",
        "y_train = target[0:NUM_TRAIN]\n",
        "\n",
        "x_test = data[NUM_TRAIN:]\n",
        "y_test = target[NUM_TRAIN:]"
      ],
      "execution_count": null,
      "outputs": []
    },
    {
      "cell_type": "code",
      "metadata": {
        "id": "_Jx_3Y7H-3SZ"
      },
      "source": [
        "scaler_x = MinMaxScaler()\n",
        "x_train = scaler_x.fit_transform(x_train) \n",
        "x_test = scaler_x.transform(x_test) \n",
        "\n",
        "scaler_y = MinMaxScaler()\n",
        "y_train = scaler_y.fit_transform(y_train.reshape(-1,1))\n",
        "y_test = scaler_y.transform(y_test.reshape(-1,1)) "
      ],
      "execution_count": null,
      "outputs": []
    },
    {
      "cell_type": "code",
      "metadata": {
        "id": "GeRUc7PI-3SZ"
      },
      "source": [
        "model = algorithms.GRNN(std=0.1, verbose=False)\n",
        "model.train(x_train, y_train)\n",
        "y_pred = model.predict(x_test)"
      ],
      "execution_count": null,
      "outputs": []
    },
    {
      "cell_type": "code",
      "metadata": {
        "id": "Hb4kGiQl-3SZ"
      },
      "source": [
        "inv_y_train = scaler_y.inverse_transform(y_train)\n",
        "inv_y_test = scaler_y.inverse_transform(y_test)\n",
        "inv_y_pred = scaler_y.inverse_transform(y_pred)"
      ],
      "execution_count": null,
      "outputs": []
    },
    {
      "cell_type": "code",
      "metadata": {
        "id": "corpdYVp-3Sa"
      },
      "source": [
        "mse = np.mean((inv_y_pred - inv_y_test) ** 2)\n",
        "rmse3 = np.sqrt(mse)\n",
        "rmse3"
      ],
      "execution_count": null,
      "outputs": []
    },
    {
      "cell_type": "code",
      "source": [
        "nrmse3 = rmse3/(np.mean(inv_y_test))\n",
        "nrmse3"
      ],
      "metadata": {
        "id": "0nqEBbE2o8TI"
      },
      "execution_count": null,
      "outputs": []
    },
    {
      "cell_type": "code",
      "source": [
        "r2_score3 = r2_score(inv_y_test, inv_y_pred)"
      ],
      "metadata": {
        "id": "b8-5uj39o9K2"
      },
      "execution_count": null,
      "outputs": []
    },
    {
      "cell_type": "code",
      "metadata": {
        "id": "xwGGKZSToHVN"
      },
      "source": [
        "save('df3.npy', inv_y_pred)"
      ],
      "execution_count": null,
      "outputs": []
    },
    {
      "cell_type": "markdown",
      "metadata": {
        "id": "qnHOFKj1-4bn"
      },
      "source": [
        "## 4 for dataset df4"
      ]
    },
    {
      "cell_type": "code",
      "metadata": {
        "id": "wrMJzujF-4bo"
      },
      "source": [
        "data = np.array(df4)\n",
        "target = data[:,-1] #assign last column to be target variable\n",
        "data = data[:,:-1] #dropping last column from features"
      ],
      "execution_count": null,
      "outputs": []
    },
    {
      "cell_type": "code",
      "metadata": {
        "id": "Y7iIM2bboOdM"
      },
      "source": [
        "LEN_DATA = len(data) #total number of pixels\n",
        "NUM_TRAIN = LEN_DATA - (24+6) #reserve last 30 months for testing\n",
        "\n",
        "x_train = data[0:NUM_TRAIN]\n",
        "y_train = target[0:NUM_TRAIN]\n",
        "\n",
        "x_test = data[NUM_TRAIN:]\n",
        "y_test = target[NUM_TRAIN:]"
      ],
      "execution_count": null,
      "outputs": []
    },
    {
      "cell_type": "code",
      "metadata": {
        "id": "VGFF6fZd-4bp"
      },
      "source": [
        "scaler_x = MinMaxScaler()\n",
        "x_train = scaler_x.fit_transform(x_train) \n",
        "x_test = scaler_x.transform(x_test) \n",
        "\n",
        "scaler_y = MinMaxScaler()\n",
        "y_train = scaler_y.fit_transform(y_train.reshape(-1,1))\n",
        "y_test = scaler_y.transform(y_test.reshape(-1,1)) "
      ],
      "execution_count": null,
      "outputs": []
    },
    {
      "cell_type": "code",
      "metadata": {
        "id": "3d4_L3GI-4bp"
      },
      "source": [
        "model = algorithms.GRNN(std=0.1, verbose=False)\n",
        "model.train(x_train, y_train)\n",
        "y_pred = model.predict(x_test)"
      ],
      "execution_count": null,
      "outputs": []
    },
    {
      "cell_type": "code",
      "metadata": {
        "id": "EVgGnBZA-4bp"
      },
      "source": [
        "inv_y_train = scaler_y.inverse_transform(y_train)\n",
        "inv_y_test = scaler_y.inverse_transform(y_test)\n",
        "inv_y_pred = scaler_y.inverse_transform(y_pred)"
      ],
      "execution_count": null,
      "outputs": []
    },
    {
      "cell_type": "code",
      "metadata": {
        "id": "U8TdEIy8oOdN"
      },
      "source": [
        "save('df4.npy', inv_y_pred)"
      ],
      "execution_count": null,
      "outputs": []
    },
    {
      "cell_type": "code",
      "metadata": {
        "id": "ghyrZya6-4bq"
      },
      "source": [
        "mse = np.mean((inv_y_pred - inv_y_test) ** 2)\n",
        "rmse4 = np.sqrt(mse)\n",
        "rmse4"
      ],
      "execution_count": null,
      "outputs": []
    },
    {
      "cell_type": "code",
      "source": [
        "nrmse4 = rmse4/(np.mean(inv_y_test))\n",
        "nrmse4"
      ],
      "metadata": {
        "id": "q7xXO30BpDS8"
      },
      "execution_count": null,
      "outputs": []
    },
    {
      "cell_type": "code",
      "source": [
        "r2_score4 = r2_score(inv_y_test, inv_y_pred)"
      ],
      "metadata": {
        "id": "8Y31cPWgpB7k"
      },
      "execution_count": null,
      "outputs": []
    },
    {
      "cell_type": "markdown",
      "metadata": {
        "id": "9G6Wu8hq-5QG"
      },
      "source": [
        "## 5 for dataset df5"
      ]
    },
    {
      "cell_type": "code",
      "metadata": {
        "id": "mVSSejl2-5QH"
      },
      "source": [
        "data = np.array(df5)\n",
        "target = data[:,-1] #assign last column to be target variable\n",
        "data = data[:,:-1] #dropping last column from features"
      ],
      "execution_count": null,
      "outputs": []
    },
    {
      "cell_type": "code",
      "metadata": {
        "id": "Z3weQNUuoVYR"
      },
      "source": [
        "LEN_DATA = len(data) #total number of pixels\n",
        "NUM_TRAIN = LEN_DATA - (24+6) #reserve last 30 months for testing\n",
        "\n",
        "x_train = data[0:NUM_TRAIN]\n",
        "y_train = target[0:NUM_TRAIN]\n",
        "\n",
        "x_test = data[NUM_TRAIN:]\n",
        "y_test = target[NUM_TRAIN:]"
      ],
      "execution_count": null,
      "outputs": []
    },
    {
      "cell_type": "code",
      "metadata": {
        "id": "l7J0KjEc-5QI"
      },
      "source": [
        "scaler_x = MinMaxScaler()\n",
        "x_train = scaler_x.fit_transform(x_train) \n",
        "x_test = scaler_x.transform(x_test) \n",
        "\n",
        "scaler_y = MinMaxScaler()\n",
        "y_train = scaler_y.fit_transform(y_train.reshape(-1,1))\n",
        "y_test = scaler_y.transform(y_test.reshape(-1,1)) "
      ],
      "execution_count": null,
      "outputs": []
    },
    {
      "cell_type": "code",
      "metadata": {
        "id": "nxrDHpKU-5QI"
      },
      "source": [
        "model = algorithms.GRNN(std=0.1, verbose=False)\n",
        "model.train(x_train, y_train)\n",
        "y_pred = model.predict(x_test)"
      ],
      "execution_count": null,
      "outputs": []
    },
    {
      "cell_type": "code",
      "metadata": {
        "id": "-YaaHbek-5QJ"
      },
      "source": [
        "inv_y_train = scaler_y.inverse_transform(y_train)\n",
        "inv_y_test = scaler_y.inverse_transform(y_test)\n",
        "inv_y_pred = scaler_y.inverse_transform(y_pred)"
      ],
      "execution_count": null,
      "outputs": []
    },
    {
      "cell_type": "code",
      "metadata": {
        "id": "OSY0ZwDmoVYS"
      },
      "source": [
        "save('df5.npy', inv_y_pred)"
      ],
      "execution_count": null,
      "outputs": []
    },
    {
      "cell_type": "code",
      "metadata": {
        "id": "gzoGEPDF-5QJ"
      },
      "source": [
        "mse = np.mean((inv_y_pred - inv_y_test) ** 2)\n",
        "rmse5 = np.sqrt(mse)\n",
        "rmse5"
      ],
      "execution_count": null,
      "outputs": []
    },
    {
      "cell_type": "code",
      "source": [
        "nrmse5 = rmse5/(np.mean(inv_y_test))\n",
        "nrmse5"
      ],
      "metadata": {
        "id": "UKbHF_kUqXLP"
      },
      "execution_count": null,
      "outputs": []
    },
    {
      "cell_type": "code",
      "source": [
        "r2_score5 = r2_score(inv_y_test, inv_y_pred)"
      ],
      "metadata": {
        "id": "ICeEMLIzqZgN"
      },
      "execution_count": null,
      "outputs": []
    },
    {
      "cell_type": "markdown",
      "metadata": {
        "id": "67RB23-e-6IH"
      },
      "source": [
        "## 6 for dataset df6"
      ]
    },
    {
      "cell_type": "code",
      "metadata": {
        "id": "wmcbG1ZC-6IH"
      },
      "source": [
        "data = np.array(df6)\n",
        "target = data[:,-1] #assign last column to be target variable\n",
        "data = data[:,:-1] #dropping last column from features"
      ],
      "execution_count": null,
      "outputs": []
    },
    {
      "cell_type": "code",
      "metadata": {
        "id": "T7Io68zGobcC"
      },
      "source": [
        "LEN_DATA = len(data) #total number of pixels\n",
        "NUM_TRAIN = LEN_DATA - (24+6) #reserve last 30 months for testing\n",
        "\n",
        "x_train = data[0:NUM_TRAIN]\n",
        "y_train = target[0:NUM_TRAIN]\n",
        "\n",
        "x_test = data[NUM_TRAIN:]\n",
        "y_test = target[NUM_TRAIN:]"
      ],
      "execution_count": null,
      "outputs": []
    },
    {
      "cell_type": "code",
      "metadata": {
        "id": "hk9cyrE2-6II"
      },
      "source": [
        "scaler_x = MinMaxScaler()\n",
        "x_train = scaler_x.fit_transform(x_train) \n",
        "x_test = scaler_x.transform(x_test) \n",
        "\n",
        "scaler_y = MinMaxScaler()\n",
        "y_train = scaler_y.fit_transform(y_train.reshape(-1,1))\n",
        "y_test = scaler_y.transform(y_test.reshape(-1,1)) "
      ],
      "execution_count": null,
      "outputs": []
    },
    {
      "cell_type": "code",
      "metadata": {
        "id": "GY8A4QiA-6IJ"
      },
      "source": [
        "model = algorithms.GRNN(std=0.1, verbose=False)\n",
        "model.train(x_train, y_train)\n",
        "y_pred = model.predict(x_test)"
      ],
      "execution_count": null,
      "outputs": []
    },
    {
      "cell_type": "code",
      "metadata": {
        "id": "KmFqB9ss-6IJ"
      },
      "source": [
        "inv_y_train = scaler_y.inverse_transform(y_train)\n",
        "inv_y_test = scaler_y.inverse_transform(y_test)\n",
        "inv_y_pred = scaler_y.inverse_transform(y_pred)"
      ],
      "execution_count": null,
      "outputs": []
    },
    {
      "cell_type": "code",
      "metadata": {
        "id": "obZOfBs2obcD"
      },
      "source": [
        "save('df6.npy', inv_y_pred)"
      ],
      "execution_count": null,
      "outputs": []
    },
    {
      "cell_type": "code",
      "metadata": {
        "id": "z9g7gXRf-6IJ"
      },
      "source": [
        "mse = np.mean((inv_y_pred - inv_y_test) ** 2)\n",
        "rmse6 = np.sqrt(mse)\n",
        "rmse6"
      ],
      "execution_count": null,
      "outputs": []
    },
    {
      "cell_type": "code",
      "source": [
        "nrmse6 = rmse6/(np.mean(inv_y_test))\n",
        "nrmse6"
      ],
      "metadata": {
        "id": "j7bmPI5Cqgze"
      },
      "execution_count": null,
      "outputs": []
    },
    {
      "cell_type": "code",
      "source": [
        "r2_score6 = r2_score(inv_y_test, inv_y_pred)"
      ],
      "metadata": {
        "id": "grnRJqeqqeCx"
      },
      "execution_count": null,
      "outputs": []
    },
    {
      "cell_type": "markdown",
      "source": [
        "### Combining Results"
      ],
      "metadata": {
        "id": "t5Ns9EMBqrmA"
      }
    },
    {
      "cell_type": "code",
      "source": [
        "rmse = [rmse1, rmse2, rmse3, rmse4, rmse5, rmse6]\n",
        "rmse"
      ],
      "metadata": {
        "id": "VRkvqv3nqpGV"
      },
      "execution_count": null,
      "outputs": []
    },
    {
      "cell_type": "code",
      "source": [
        "nrmse = [nrmse1, nrmse2, nrmse3, nrmse4, nrmse5, nrmse6]\n",
        "nrmse"
      ],
      "metadata": {
        "id": "BMK_pEDTqoWR"
      },
      "execution_count": null,
      "outputs": []
    },
    {
      "cell_type": "code",
      "source": [
        "r2 = [r2_score1, r2_score2, r2_score3, r2_score4, r2_score5, r2_score6]\n",
        "r2"
      ],
      "metadata": {
        "id": "IF5FxBHZqmQX"
      },
      "execution_count": null,
      "outputs": []
    }
  ]
}