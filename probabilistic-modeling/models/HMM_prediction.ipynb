{
 "cells": [
  {
   "cell_type": "code",
   "execution_count": 101,
   "metadata": {},
   "outputs": [],
   "source": [
    "import warnings\n",
    "import logging\n",
    "import itertools\n",
    "import pandas as pd\n",
    "import numpy as np\n",
    "from pandas_datareader import data\n",
    "import matplotlib.pyplot as plt\n",
    "from hmmlearn.hmm import GaussianHMM\n",
    "from sklearn.model_selection import train_test_split\n",
    "from sklearn.metrics import mean_squared_error\n",
    "from tqdm import tqdm\n",
    "import argparse\n",
    "import sys\n",
    "import os\n",
    "from datetime import timedelta\n",
    "\n",
    "# Suppress warning in hmmlearn\n",
    "warnings.filterwarnings(\"ignore\")"
   ]
  },
  {
   "cell_type": "markdown",
   "metadata": {},
   "source": [
    "1. Define input parameters"
   ]
  },
  {
   "cell_type": "code",
   "execution_count": 102,
   "metadata": {},
   "outputs": [],
   "source": [
    "metrics = True\n",
    "plot = True\n",
    "out_dir = os.getcwd()"
   ]
  },
  {
   "cell_type": "code",
   "execution_count": 103,
   "metadata": {},
   "outputs": [],
   "source": [
    "n_intervals_frac_change=50\n",
    "n_intervals_frac_high=10\n",
    "n_intervals_frac_low=10\n",
    "n_hidden_states=4\n",
    "n_latency_days = 15\n",
    "hmm = GaussianHMM(n_components=n_hidden_states)\n",
    "predicted_close = None"
   ]
  },
  {
   "cell_type": "markdown",
   "metadata": {},
   "source": [
    "2. Import data of stock prices, and split train and test data given test_size (0.33):"
   ]
  },
  {
   "cell_type": "code",
   "execution_count": 104,
   "metadata": {},
   "outputs": [],
   "source": [
    "#def _split_train_test_data(test_size):\n",
    "used_data = pd.read_csv('Copy.csv',index_col=0)\n",
    "\n",
    "# Do not shuffle the data as it is a time series\n",
    "train_data, test_data = train_test_split(used_data, test_size=test_size, shuffle=False)"
   ]
  },
  {
   "cell_type": "code",
   "execution_count": 105,
   "metadata": {},
   "outputs": [],
   "source": [
    "used_data = pd.read_csv('HMM_data.csv',index_col=0) #The path to used data\n",
    "LEN_DATA = len(used_data)\n",
    "NUM_TRAIN = LEN_DATA-37\n",
    "train_data = used_data[0:NUM_TRAIN]\n",
    "test_data = used_data[NUM_TRAIN:]\n",
    "days = len(test_data)"
   ]
  },
  {
   "cell_type": "code",
   "execution_count": 106,
   "metadata": {},
   "outputs": [
    {
     "name": "stdout",
     "output_type": "stream",
     "text": [
      "         sea_ice_extent  sea_ice_extent_next_month  sea_ice_extent_in_2months  \\\n",
      "Date                                                                            \n",
      "1979-01        15604191                   16378929                   16521089   \n",
      "1979-02        16378929                   16521089                   15561238   \n",
      "1979-03        16521089                   15561238                   14085613   \n",
      "1979-04        15561238                   14085613                   12653185   \n",
      "1979-05        14085613                   12653185                   10521427   \n",
      "...                 ...                        ...                        ...   \n",
      "2020-10         5591115                    9476049                   12254325   \n",
      "2020-11         9476049                   12254325                   13480000   \n",
      "2020-12        12254325                   13480000                   14390000   \n",
      "2021-01        13480000                   14390000                   14640000   \n",
      "2021-02        14390000                   14640000                   13840000   \n",
      "\n",
      "         sea_ice_extent_in_3months  sea_ice_extent_in_4months  \\\n",
      "Date                                                            \n",
      "1979-01                   15561238                   14085613   \n",
      "1979-02                   14085613                   12653185   \n",
      "1979-03                   12653185                   10521427   \n",
      "1979-04                   10521427                    8183421   \n",
      "1979-05                    8183421                    7219913   \n",
      "...                            ...                        ...   \n",
      "2020-10                   13480000                   14390000   \n",
      "2020-11                   14390000                   14640000   \n",
      "2020-12                   14640000                   13840000   \n",
      "2021-01                   13840000                   12660000   \n",
      "2021-02                   12660000                   10710000   \n",
      "\n",
      "         sea_ice_extent_in_5months  sea_ice_extent_in_6months  \n",
      "Date                                                           \n",
      "1979-01                   12653185                   10521427  \n",
      "1979-02                   10521427                    8183421  \n",
      "1979-03                    8183421                    7219913  \n",
      "1979-04                    7219913                    9428492  \n",
      "1979-05                    9428492                   11185959  \n",
      "...                            ...                        ...  \n",
      "2020-10                   14640000                   13840000  \n",
      "2020-11                   13840000                   12660000  \n",
      "2020-12                   12660000                   10710000  \n",
      "2021-01                   10710000                    7690000  \n",
      "2021-02                    7690000                    5750000  \n",
      "\n",
      "[506 rows x 7 columns]\n"
     ]
    }
   ],
   "source": [
    "print(used_data)"
   ]
  },
  {
   "cell_type": "markdown",
   "metadata": {},
   "source": [
    "3. Definition and initialization of computation of prediction"
   ]
  },
  {
   "cell_type": "code",
   "execution_count": 107,
   "metadata": {},
   "outputs": [],
   "source": [
    "#def _compute_all_possible_outcomes(self, n_intervals_frac_change, n_intervals_frac_high, n_intervals_frac_low):\n",
    "\n",
    "frac_change_range = np.linspace(-0.1, 0.1, n_intervals_frac_change)\n",
    "frac_high_range = np.linspace(-0.1, 0.1, n_intervals_frac_high)\n",
    "frac_low_range = np.linspace(-0.1, 0.1, n_intervals_frac_low)\n",
    "\n",
    "_possible_outcomes = np.array(list(itertools.product(frac_change_range, frac_high_range, frac_low_range)))\n"
   ]
  },
  {
   "cell_type": "code",
   "execution_count": 108,
   "metadata": {},
   "outputs": [
    {
     "name": "stdout",
     "output_type": "stream",
     "text": [
      "Training data period is from 1979-01 to 2018-01\n"
     ]
    }
   ],
   "source": [
    "print(\"Training data period is from \" + str(train_data.index[0]) + \" to \" + str(train_data.index[-1]))"
   ]
  },
  {
   "cell_type": "markdown",
   "metadata": {},
   "source": [
    "4. Fit the HMM model"
   ]
  },
  {
   "cell_type": "code",
   "execution_count": 109,
   "metadata": {},
   "outputs": [
    {
     "name": "stdout",
     "output_type": "stream",
     "text": [
      "[[ 0.04964935  0.05875973 -0.00275266]\n",
      " [ 0.00867944 -0.04992335 -0.14001624]\n",
      " [-0.05809853 -0.14741619 -0.23411919]\n",
      " ...\n",
      " [ 0.22022038  0.345634    0.43388851]\n",
      " [ 0.10277949  0.17510618  0.19955338]\n",
      " [ 0.06558582  0.08775453  0.03921632]]\n"
     ]
    }
   ],
   "source": [
    "##\"\"\"Fit the continuous emission Gaussian HMM.\"\"\"\n",
    "# Feature Extractor\n",
    "def extract_features(data):\n",
    "        \"\"\"Extract the features - open, close, high, low price - from the Yahooo finance generated dataframe.\"\"\"\n",
    "        this_month = np.array(data['sea_ice_extent'])\n",
    "        next_month = np.array(data['sea_ice_extent_next_month'])\n",
    "        in_2months = np.array(data['sea_ice_extent_in_2months'])\n",
    "        in_3months = np.array(data['sea_ice_extent_in_3months'])\n",
    " \n",
    "        frac_change = (next_month - this_month) / this_month\n",
    "        frac_change2 = (in_2months - this_month) / this_month\n",
    "        frac_change3 = (in_3months - this_month) / this_month\n",
    "\n",
    "        # Put the observations into one array\n",
    "        return np.column_stack((frac_change, frac_change2, frac_change3))\n",
    "\n",
    "observations = extract_features(train_data)\n",
    "\n",
    "# Fit the HMM using the fit feature of hmmlearn\n",
    "hmm.fit(observations)\n",
    "\n",
    "print(observations)\n"
   ]
  },
  {
   "cell_type": "markdown",
   "metadata": {},
   "source": [
    "5. Get the predicted and actual stock prices and create a DF for saving if you'd like to get a metric for the model"
   ]
  },
  {
   "cell_type": "code",
   "execution_count": 110,
   "metadata": {},
   "outputs": [
    {
     "name": "stderr",
     "output_type": "stream",
     "text": [
      "  0%|          | 0/37 [00:00<?, ?it/s]"
     ]
    },
    {
     "name": "stdout",
     "output_type": "stream",
     "text": [
      "Predicting Sea ice extent from 2018-02 to 2021-02\n"
     ]
    },
    {
     "name": "stderr",
     "output_type": "stream",
     "text": [
      "100%|██████████| 37/37 [00:51<00:00,  1.38s/it]\n"
     ]
    }
   ],
   "source": [
    "def get_most_probable_outcome(day_index):\n",
    "\n",
    "        previous_data_start_index = max(0, day_index - n_latency_days)\n",
    "        previous_data_end_index = max(0, day_index - 1)\n",
    "        previous_data = test_data.iloc[previous_data_start_index: previous_data_end_index]\n",
    "        previous_data_features = extract_features(previous_data)\n",
    "    \n",
    "        outcome_score = []\n",
    "\n",
    "        # Score all possible outcomes and select the most probable one to use for prediction\n",
    "        for possible_outcome in _possible_outcomes:\n",
    "            total_data = np.row_stack((previous_data_features, possible_outcome))\n",
    "            outcome_score.append(hmm.score(total_data))\n",
    "\n",
    "        # Get the index of the most probable outcome and return it\n",
    "        most_probable_outcome = _possible_outcomes[np.argmax(outcome_score)]\n",
    "\n",
    "        return most_probable_outcome\n",
    "\n",
    "def predict_close_price(day_index):\n",
    "        \"\"\"Predict close price for a given day.\"\"\"\n",
    "        this_month = test_data.iloc[day_index]['sea_ice_extent']\n",
    "        predicted_frac_change, pred_frac_change2, pred_frac_change3 = get_most_probable_outcome(day_index)\n",
    "        \n",
    "        ##Here, please change the parameter name for the corresponding time lead.\n",
    "        return this_month * (1 + predicted_frac_change) #Prediction for next month (time lead = 1 month)\n",
    "        # return this_month * (1 + pred_frac_change2) #Prediction for 2 months later (time lead = 2 months)\n",
    "        # return this_month * (1 + pred_frac_change3) #Prediction for 3 months later (time lead = 3 months)\n",
    "\n",
    "  \n",
    "predicted_next_month = []\n",
    "print(\"Predicting Sea ice extent from \" + str(test_data.index[0]) + \" to \" + str(test_data.index[-1]))\n",
    "for day_index in tqdm(range(days)):\n",
    "    predicted_next_month.append(predict_close_price(day_index))\n",
    "predicted_extent1 = predicted_next_month\n",
    "#return predicted_close_prices"
   ]
  },
  {
   "cell_type": "code",
   "execution_count": 111,
   "metadata": {},
   "outputs": [
    {
     "name": "stdout",
     "output_type": "stream",
     "text": [
      "[14950736.614285715, 15261775.432653062, 14580758.46122449, 11126773.8, 9833478.3, 7795222.2, 5060698.2, 4351457.7, 7228505.957142858, 11265622.175510205, 13252605.465306124, 14556954.367346939, 15430694.04489796, 15589772.840816326, 14325664.665306123, 11079268.200000001, 9768530.700000001, 7155660.600000001, 4519077.3, 4006541.7, 6493376.351020409, 10695436.671428572, 13428639.54489796, 14621942.700000001, 15622077.942857144, 15811325.46734694, 14492470.206122449, 11312613.0, 9772418.700000001, 6901128.9, 4687056.0, 3690817.2, 5922017.724489796, 10384976.148979593, 13429739.846938776, 14277795.918367347, 15241653.06122449]\n"
     ]
    }
   ],
   "source": [
    "print(predicted_extent1)\n",
    "#np.save(\"HMM_lag1.npy\", predicted_extent1) #Save predicted data in a numpy file"
   ]
  },
  {
   "cell_type": "code",
   "execution_count": 115,
   "metadata": {},
   "outputs": [],
   "source": [
    "actual_next_month = test_data.loc[:, ['sea_ice_extent_next_month']]\n",
    "actual_extent1 = np.array(actual_next_month['sea_ice_extent_next_month'])\n",
    "actual_extent1 = actual_extent1/1000000 #The predicted data is divided by 1000000 for unit transferring\n",
    "predicted_extent1 = np.array(predicted_extent1)/1000000\n",
    "#np.save(\"HMM_actual_lag1.npy\", predicted_extent1)  #Save predicted data in a numpy file"
   ]
  },
  {
   "cell_type": "code",
   "execution_count": 88,
   "metadata": {},
   "outputs": [
    {
     "name": "stdout",
     "output_type": "stream",
     "text": [
      "Observed: 0.860593, Predicted: 0.694504\n",
      "Observed: 0.660648, Predicted: 0.777012\n",
      "Observed: 0.224368, Predicted: 0.596362\n",
      "Observed: -0.222498, Predicted: 0.202182\n",
      "Observed: -0.926767, Predicted: -0.201563\n",
      "Observed: -1.871614, Predicted: -0.837872\n",
      "Observed: -2.116675, Predicted: -1.691544\n",
      "Observed: -1.497949, Predicted: -1.912957\n",
      "Observed: -0.423532, Predicted: -1.353936\n",
      "Observed: 0.140285, Predicted: -0.383198\n",
      "Observed: 0.653660, Predicted: 0.126213\n",
      "Observed: 0.910187, Predicted: 0.590048\n",
      "Observed: 0.956892, Predicted: 0.821820\n",
      "Observed: 0.585754, Predicted: 0.864019\n",
      "Observed: 0.207954, Predicted: 0.528695\n",
      "Observed: -0.244939, Predicted: 0.187352\n",
      "Observed: -1.147752, Predicted: -0.221838\n",
      "Observed: -2.058758, Predicted: -1.037532\n",
      "Observed: -2.235852, Predicted: -1.860629\n",
      "Observed: -1.713780, Predicted: -2.020633\n",
      "Observed: -0.585325, Predicted: -1.548940\n",
      "Observed: 0.190236, Predicted: -0.529378\n",
      "Observed: 0.672740, Predicted: 0.171343\n",
      "Observed: 0.966376, Predicted: 0.607287\n",
      "Observed: 1.021939, Predicted: 0.872588\n",
      "Observed: 0.634727, Predicted: 0.922789\n",
      "Observed: 0.288581, Predicted: 0.572942\n",
      "Observed: -0.243596, Predicted: 0.260198\n",
      "Observed: -1.235699, Predicted: -0.220625\n",
      "Observed: -2.000717, Predicted: -1.116993\n",
      "Observed: -2.344943, Predicted: -1.808188\n",
      "Observed: -1.881529, Predicted: -2.119197\n",
      "Observed: -0.673420, Predicted: -1.700502\n",
      "Observed: 0.190548, Predicted: -0.608972\n",
      "Observed: 0.571700, Predicted: 0.171625\n",
      "Observed: 0.854685, Predicted: 0.515997\n",
      "Observed: 0.932428, Predicted: 0.771674\n"
     ]
    }
   ],
   "source": [
    "for i in range(len(predicted_extent1)):\n",
    "\tprint('Observed: %f, Predicted: %f' % (actual_extent1[i],predicted_extent1[i]))"
   ]
  },
  {
   "cell_type": "code",
   "execution_count": 116,
   "metadata": {},
   "outputs": [
    {
     "name": "stdout",
     "output_type": "stream",
     "text": [
      "1.6535264395828884\n"
     ]
    },
    {
     "data": {
      "text/plain": [
       "0.15588655111031574"
      ]
     },
     "execution_count": 116,
     "metadata": {},
     "output_type": "execute_result"
    }
   ],
   "source": [
    "# Caculate MSE and NMSE\n",
    "mse1 = np.mean((predicted_extent1-actual_extent1)**2)\n",
    "rmse1 = np.sqrt(mse1)\n",
    "print(rmse1)\n",
    "nrmse1 = rmse1/(actual_extent1.mean())\n",
    "nrmse1"
   ]
  },
  {
   "cell_type": "code",
   "execution_count": 28,
   "metadata": {},
   "outputs": [
    {
     "data": {
      "text/plain": [
       "0.783486923818859"
      ]
     },
     "execution_count": 28,
     "metadata": {},
     "output_type": "execute_result"
    }
   ],
   "source": [
    "# Calculate R-square score\n",
    "from sklearn.metrics import r2_score\n",
    "y_true1 = actual_extent1\n",
    "y_pred1= predicted_extent1\n",
    "r1=r2_score(y_true1, y_pred1)\n",
    "r1"
   ]
  }
 ],
 "metadata": {
  "interpreter": {
   "hash": "ad626bb987a73f87f2c6d54e7b15ee65d7a6c8c238135831209d6739e3f7ea36"
  },
  "kernelspec": {
   "display_name": "Python 3.7.10 64-bit ('pytorch2': conda)",
   "language": "python",
   "name": "python3"
  },
  "language_info": {
   "codemirror_mode": {
    "name": "ipython",
    "version": 3
   },
   "file_extension": ".py",
   "mimetype": "text/x-python",
   "name": "python",
   "nbconvert_exporter": "python",
   "pygments_lexer": "ipython3",
   "version": "3.7.10"
  },
  "orig_nbformat": 4
 },
 "nbformat": 4,
 "nbformat_minor": 2
}
