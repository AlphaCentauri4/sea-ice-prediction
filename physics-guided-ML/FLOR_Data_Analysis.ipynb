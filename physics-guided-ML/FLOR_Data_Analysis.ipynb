{
  "cells": [
    {
      "cell_type": "markdown",
      "metadata": {
        "id": "view-in-github",
        "colab_type": "text"
      },
      "source": [
        "<a href=\"https://colab.research.google.com/github/big-data-lab-umbc/sea-ice-prediction/blob/main/physics-guided-ML/FLOR_Data_Analysis.ipynb\" target=\"_parent\"><img src=\"https://colab.research.google.com/assets/colab-badge.svg\" alt=\"Open In Colab\"/></a>"
      ]
    },
    {
      "cell_type": "markdown",
      "metadata": {
        "id": "d_sTM2QYbcME"
      },
      "source": [
        "## Initial Setup"
      ]
    },
    {
      "cell_type": "code",
      "source": [
        "from google.colab import drive\n",
        "drive.mount('/content/drive')"
      ],
      "metadata": {
        "colab": {
          "base_uri": "https://localhost:8080/"
        },
        "id": "VDtj4k28biI4",
        "outputId": "6da5d6d9-05ee-4142-b999-3541b14aa85d"
      },
      "execution_count": null,
      "outputs": [
        {
          "output_type": "stream",
          "name": "stdout",
          "text": [
            "Drive already mounted at /content/drive; to attempt to forcibly remount, call drive.mount(\"/content/drive\", force_remount=True).\n"
          ]
        }
      ]
    },
    {
      "cell_type": "code",
      "execution_count": null,
      "metadata": {
        "id": "MNyybfnFbcMG"
      },
      "outputs": [],
      "source": [
        "import sys\n",
        "import numpy as np\n",
        "from netCDF4 import Dataset\n",
        "from tempfile import TemporaryFile"
      ]
    },
    {
      "cell_type": "markdown",
      "metadata": {
        "id": "HgmuTcm7bcMH"
      },
      "source": [
        "## Load Data"
      ]
    },
    {
      "cell_type": "code",
      "execution_count": null,
      "metadata": {
        "id": "CEAHg_fnbcMH"
      },
      "outputs": [],
      "source": [
        "path='/content/drive/MyDrive/UMBC/Polar_Sea_Ice/Mitch Data/'\n",
        "file=path+'ice_CN_01_01.nc'\n",
        "df=Dataset(file,'r')"
      ]
    },
    {
      "cell_type": "code",
      "source": [
        "spear_stats_file=path+'ice.static.nc'\n",
        "stats_df=Dataset(spear_stats_file,'r')"
      ],
      "metadata": {
        "id": "TXnAR0tN0seY"
      },
      "execution_count": null,
      "outputs": []
    },
    {
      "cell_type": "markdown",
      "metadata": {
        "id": "Wk8ZgUKwbcMH"
      },
      "source": [
        "Reading Data from Variables"
      ]
    },
    {
      "cell_type": "code",
      "execution_count": null,
      "metadata": {
        "colab": {
          "base_uri": "https://localhost:8080/"
        },
        "id": "WpB-Ah1rbcMI",
        "outputId": "963198f2-da01-48f9-a7db-b887d3d58feb"
      },
      "outputs": [
        {
          "output_type": "stream",
          "name": "stdout",
          "text": [
            "dict_keys(['xt', 'xb', 'yt', 'yb', 'time', 'nv', 'ct', 'CN', 'average_T1', 'average_T2', 'average_DT', 'time_bounds'])\n",
            "dict_keys(['xt', 'xb', 'yt', 'yb', 'CELL_AREA', 'COSROT', 'GEOLAT', 'GEOLON', 'SINROT'])\n"
          ]
        }
      ],
      "source": [
        "print(df.variables.keys()) # get all variable names\n",
        "print(stats_df.variables.keys()) # get all variable names"
      ]
    },
    {
      "cell_type": "markdown",
      "source": [
        "### Calculating Weighted Area from SPEARS stats"
      ],
      "metadata": {
        "id": "O2hD88zLR94g"
      }
    },
    {
      "cell_type": "code",
      "source": [
        "stats_df['CELL_AREA'].shape"
      ],
      "metadata": {
        "colab": {
          "base_uri": "https://localhost:8080/"
        },
        "id": "8V_fNhl71VDM",
        "outputId": "ce34c166-3716-44e9-b6d6-42eac2c55a76"
      },
      "execution_count": null,
      "outputs": [
        {
          "output_type": "execute_result",
          "data": {
            "text/plain": [
              "(200, 360)"
            ]
          },
          "metadata": {},
          "execution_count": 25
        }
      ]
    },
    {
      "cell_type": "code",
      "source": [
        "pi = 22/7\n",
        "r = 6.371e6\n",
        "area = np.array(stats_df['CELL_AREA'])\n",
        "weighted_area = area * (4*pi*(r**2))\n",
        "weighted_area = weighted_area / 10e6\n",
        "print(weighted_area.shape)"
      ],
      "metadata": {
        "id": "y6OHxXwY1s7q"
      },
      "execution_count": null,
      "outputs": []
    },
    {
      "cell_type": "code",
      "source": [
        "np.save('1deg_weighted_area.npy',weighted_area)"
      ],
      "metadata": {
        "id": "2G1v5DDr3AEx"
      },
      "execution_count": null,
      "outputs": []
    },
    {
      "cell_type": "markdown",
      "source": [
        "## FLOR Data Analysis"
      ],
      "metadata": {
        "id": "NBzZczltSE0_"
      }
    },
    {
      "cell_type": "code",
      "execution_count": null,
      "metadata": {
        "colab": {
          "base_uri": "https://localhost:8080/"
        },
        "id": "2QorD3r3bcMI",
        "outputId": "d91f34c0-e705-451f-a038-33edff2ead70"
      },
      "outputs": [
        {
          "output_type": "stream",
          "name": "stdout",
          "text": [
            "('xt', <class 'netCDF4._netCDF4.Dimension'>: name = 'xt', size = 360)\n",
            "('xb', <class 'netCDF4._netCDF4.Dimension'>: name = 'xb', size = 361)\n",
            "('yt', <class 'netCDF4._netCDF4.Dimension'>: name = 'yt', size = 200)\n",
            "('yb', <class 'netCDF4._netCDF4.Dimension'>: name = 'yb', size = 201)\n",
            "('time', <class 'netCDF4._netCDF4.Dimension'> (unlimited): name = 'time', size = 492)\n",
            "('nv', <class 'netCDF4._netCDF4.Dimension'>: name = 'nv', size = 2)\n",
            "('ct', <class 'netCDF4._netCDF4.Dimension'>: name = 'ct', size = 5)\n"
          ]
        }
      ],
      "source": [
        "for d in df.dimensions.items():\n",
        "    print(d)"
      ]
    },
    {
      "cell_type": "markdown",
      "metadata": {
        "id": "JV08Hm4tbcMJ"
      },
      "source": [
        "We can also check the dimension size of a variable individually:"
      ]
    },
    {
      "cell_type": "code",
      "execution_count": null,
      "metadata": {
        "colab": {
          "base_uri": "https://localhost:8080/"
        },
        "id": "n-EdEmpmbcMJ",
        "outputId": "dedc66c5-8e62-4d4d-f07a-aeba5e45e1fd"
      },
      "outputs": [
        {
          "output_type": "execute_result",
          "data": {
            "text/plain": [
              "(492, 5, 200, 360)"
            ]
          },
          "metadata": {},
          "execution_count": 5
        }
      ],
      "source": [
        "df['CN'].shape"
      ]
    },
    {
      "cell_type": "markdown",
      "metadata": {
        "id": "gK5FfZZIbcMJ"
      },
      "source": [
        "Reading and printing values inside a variable. Looking for any missing values and filling it with Nans"
      ]
    },
    {
      "cell_type": "code",
      "execution_count": null,
      "metadata": {
        "id": "Nv0e4t9LbcMK"
      },
      "outputs": [],
      "source": [
        "ice_data=np.array(df.variables['CN'][:])\n",
        "fill=df.variables['CN'].missing_value\n",
        "ice_data[np.where(ice_data==fill)]=np.nan"
      ]
    },
    {
      "cell_type": "markdown",
      "source": [
        "Sum SIC across all 5 thickness levels"
      ],
      "metadata": {
        "id": "h35pXCesSP1e"
      }
    },
    {
      "cell_type": "code",
      "source": [
        "total_sic = ice_data.sum(axis=1)\n",
        "print(total_sic.shape)"
      ],
      "metadata": {
        "colab": {
          "base_uri": "https://localhost:8080/"
        },
        "id": "HV06t-WEUDH6",
        "outputId": "692e3446-8a1d-4c4b-8311-59205792f146"
      },
      "execution_count": null,
      "outputs": [
        {
          "output_type": "stream",
          "name": "stdout",
          "text": [
            "(492, 200, 360)\n"
          ]
        }
      ]
    },
    {
      "cell_type": "markdown",
      "source": [
        "## Bias Correction"
      ],
      "metadata": {
        "id": "2lJuNlqwRcxl"
      }
    },
    {
      "cell_type": "code",
      "source": [
        "model_data #predicted\n",
        "nsidc_data #ground truth\n",
        "\n",
        "bias = model_data - nsidc_data\n",
        "RMSE for both data variables\n",
        "\n",
        "#interpolate NSIDC data from 25km to 1 degree \n",
        "#Ask Mithc for an interpolation method\n",
        "#Quick search at Google\n"
      ],
      "metadata": {
        "id": "6jj5-6VkbiQX"
      },
      "execution_count": null,
      "outputs": []
    }
  ],
  "metadata": {
    "kernelspec": {
      "display_name": "Python 3",
      "language": "python",
      "name": "python3"
    },
    "language_info": {
      "codemirror_mode": {
        "name": "ipython",
        "version": 3
      },
      "file_extension": ".py",
      "mimetype": "text/x-python",
      "name": "python",
      "nbconvert_exporter": "python",
      "pygments_lexer": "ipython3",
      "version": "3.7.7"
    },
    "colab": {
      "name": "FLOR_Data_Analysis.ipynb",
      "provenance": [],
      "collapsed_sections": [],
      "include_colab_link": true
    }
  },
  "nbformat": 4,
  "nbformat_minor": 0
}