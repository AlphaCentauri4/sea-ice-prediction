{
 "cells": [
  {
   "cell_type": "code",
   "execution_count": 15,
   "id": "0ca5876f",
   "metadata": {},
   "outputs": [],
   "source": [
    "import sys\n",
    "import numpy as np\n",
    "from netCDF4 import Dataset\n",
    "from tempfile import TemporaryFile"
   ]
  },
  {
   "cell_type": "code",
   "execution_count": 16,
   "id": "878d258b",
   "metadata": {},
   "outputs": [],
   "source": [
    "path='/data/'\n",
    "file0 ='NSIDC_sea_ice_concentration_daily_1deg_bilinear_1979_2019.nc'\n",
    "file1 = 'ice.static.nc'"
   ]
  },
  {
   "cell_type": "code",
   "execution_count": 17,
   "id": "bca128f8",
   "metadata": {},
   "outputs": [],
   "source": [
    "df=Dataset(file0,'r')\n",
    "stats_df = Dataset(file1,'r')\n",
    "area = np.load('1deg_weighted_area.npy')"
   ]
  },
  {
   "cell_type": "code",
   "execution_count": 18,
   "id": "8b0b3c23",
   "metadata": {},
   "outputs": [
    {
     "name": "stdout",
     "output_type": "stream",
     "text": [
      "dict_keys(['lat', 'lon', 'time', 'Sea_ice_concentration'])\n",
      "dict_keys(['xt', 'xb', 'yt', 'yb', 'CELL_AREA', 'COSROT', 'GEOLAT', 'GEOLON', 'SINROT'])\n"
     ]
    }
   ],
   "source": [
    "print(df.variables.keys()) # get all variable names\n",
    "print(stats_df.variables.keys()) # get all variable names"
   ]
  },
  {
   "cell_type": "code",
   "execution_count": 13,
   "id": "3873391d",
   "metadata": {},
   "outputs": [
    {
     "name": "stdout",
     "output_type": "stream",
     "text": [
      "(180,)\n",
      "(360,)\n",
      "(200, 360)\n"
     ]
    }
   ],
   "source": [
    "print(df['lat'].shape)\n",
    "print(df['lon'].shape)\n",
    "print(area.shape)"
   ]
  },
  {
   "cell_type": "code",
   "execution_count": 12,
   "id": "1905b7a2",
   "metadata": {},
   "outputs": [
    {
     "name": "stdout",
     "output_type": "stream",
     "text": [
      "(200, 360)\n"
     ]
    }
   ],
   "source": [
    "print(area)"
   ]
  },
  {
   "cell_type": "markdown",
   "id": "ea071d83",
   "metadata": {},
   "source": [
    "TODO\n",
    "\n",
    "deltaX * deltaX *cos(lat), where deltaX is the side length of your grid cell.\n",
    "the lats here will be those for the 1 degree regular grid. Likely something like -89.5:1:89.5"
   ]
  },
  {
   "cell_type": "code",
   "execution_count": null,
   "id": "c91d8e33",
   "metadata": {},
   "outputs": [],
   "source": []
  }
 ],
 "metadata": {
  "kernelspec": {
   "display_name": "Anaconda SIC",
   "language": "python",
   "name": "anaconda-sea-ice-research"
  },
  "language_info": {
   "codemirror_mode": {
    "name": "ipython",
    "version": 3
   },
   "file_extension": ".py",
   "mimetype": "text/x-python",
   "name": "python",
   "nbconvert_exporter": "python",
   "pygments_lexer": "ipython3",
   "version": "3.8.10"
  }
 },
 "nbformat": 4,
 "nbformat_minor": 5
}
